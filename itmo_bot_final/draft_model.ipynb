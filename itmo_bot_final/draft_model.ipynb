{
 "cells": [
  {
   "metadata": {},
   "cell_type": "markdown",
   "source": "## Getting Embeddings and Testing Responses",
   "id": "9f1d14873785eb35"
  },
  {
   "cell_type": "code",
   "id": "b144210fef7f01e1",
   "metadata": {
    "ExecuteTime": {
     "end_time": "2025-08-03T18:12:17.129745Z",
     "start_time": "2025-08-03T18:12:16.986451Z"
    }
   },
   "source": [
    "from langchain.document_loaders import TextLoader\n",
    "from langchain.text_splitter import RecursiveCharacterTextSplitter\n",
    "from yandex_chain import YandexEmbeddings\n",
    "from langchain.vectorstores import FAISS\n",
    "from yandex_chain import YandexLLM\n",
    "from langchain.chains import RetrievalQA"
   ],
   "outputs": [],
   "execution_count": 8
  },
  {
   "metadata": {},
   "cell_type": "markdown",
   "source": "##### Loading text files and splitting them into chunks",
   "id": "46aa9b248a642513"
  },
  {
   "metadata": {
    "ExecuteTime": {
     "end_time": "2025-08-03T18:08:08.000111Z",
     "start_time": "2025-08-03T18:08:07.981526Z"
    }
   },
   "cell_type": "code",
   "source": [
    "loader1 = TextLoader(\"data/ai_parced.txt\", encoding=\"utf-8\")\n",
    "loader2 = TextLoader(\"data/ai_product_parced.txt\", encoding=\"utf-8\")\n",
    "\n",
    "docs = loader1.load() + loader2.load()\n",
    "\n",
    "splitter = RecursiveCharacterTextSplitter(chunk_size=1000, chunk_overlap=100)\n",
    "split_docs = splitter.split_documents(docs)"
   ],
   "id": "initial_id",
   "outputs": [],
   "execution_count": 2
  },
  {
   "metadata": {
    "ExecuteTime": {
     "end_time": "2025-08-03T18:09:06.007744Z",
     "start_time": "2025-08-03T18:09:06.003088Z"
    }
   },
   "cell_type": "code",
   "source": [
    "api_key = \"***\"\n",
    "folder_id = \"***\""
   ],
   "id": "752f718571f96ca2",
   "outputs": [],
   "execution_count": 4
  },
  {
   "metadata": {},
   "cell_type": "code",
   "outputs": [],
   "execution_count": null,
   "source": "embeddings = YandexEmbeddings(api_key=api_key, folder_id=folder_id)",
   "id": "9cbed32f28e0ab3c"
  },
  {
   "metadata": {},
   "cell_type": "markdown",
   "source": "##### Creating a vector store",
   "id": "406e8bc74e71a199"
  },
  {
   "metadata": {
    "ExecuteTime": {
     "end_time": "2025-08-03T18:10:24.867328Z",
     "start_time": "2025-08-03T18:09:06.700677Z"
    }
   },
   "cell_type": "code",
   "source": [
    "# vectorstore = FAISS.from_documents(split_docs, embeddings)\n",
    "#\n",
    "# vectorstore.save_local('data/ai_programs')"
   ],
   "id": "bf24a5e562b7491c",
   "outputs": [],
   "execution_count": 5
  },
  {
   "metadata": {},
   "cell_type": "markdown",
   "source": "##### Loading the vector store from disk",
   "id": "bb183ff3fff4204a"
  },
  {
   "metadata": {
    "ExecuteTime": {
     "end_time": "2025-08-03T18:11:04.052950Z",
     "start_time": "2025-08-03T18:11:04.041500Z"
    }
   },
   "cell_type": "code",
   "source": "vectorstore = FAISS.load_local(folder_path='data/ai_programs', embeddings=embeddings, allow_dangerous_deserialization=True)",
   "id": "dc06c58b39da571e",
   "outputs": [],
   "execution_count": 7
  },
  {
   "metadata": {
    "ExecuteTime": {
     "end_time": "2025-08-03T18:20:10.505781Z",
     "start_time": "2025-08-03T18:20:10.499950Z"
    }
   },
   "cell_type": "code",
   "source": "instruction_text = 'Ты интеллектуальный помощник, который помогает абитуриентам выбрать одну из двух программ магистратуры: Искусственный Интеллект (AI) или Управление ИИ Продуктами (AI Product Management). Получай информацию о программах из файлов. Отвечай на вопросы пользователя по поводу выбора образовательных программ. Игнорируй вопросы не связанные с обучением в магистратуре.'",
   "id": "e5d02c57e1421edc",
   "outputs": [],
   "execution_count": 14
  },
  {
   "metadata": {
    "ExecuteTime": {
     "end_time": "2025-08-03T18:20:11.302623Z",
     "start_time": "2025-08-03T18:20:11.297838Z"
    }
   },
   "cell_type": "code",
   "source": "llm = YandexLLM(api_key=api_key, folder_id=folder_id, instruction_text=instruction_text)",
   "id": "36f065c069af9b69",
   "outputs": [],
   "execution_count": 15
  },
  {
   "metadata": {
    "ExecuteTime": {
     "end_time": "2025-08-03T18:20:11.946992Z",
     "start_time": "2025-08-03T18:20:11.940051Z"
    }
   },
   "cell_type": "code",
   "source": [
    "qa_chain = RetrievalQA.from_chain_type(\n",
    "    llm=llm,\n",
    "    retriever=vectorstore.as_retriever(search_type=\"similarity\", search_kwargs={\"k\": 3}),\n",
    "    return_source_documents=True\n",
    ")"
   ],
   "id": "f11b4e3b6f048797",
   "outputs": [],
   "execution_count": 16
  },
  {
   "metadata": {},
   "cell_type": "markdown",
   "source": "##### Testing the model with a query",
   "id": "550ad4edc3fa763b"
  },
  {
   "metadata": {
    "ExecuteTime": {
     "end_time": "2025-08-03T18:20:20.560045Z",
     "start_time": "2025-08-03T18:20:19.085609Z"
    }
   },
   "cell_type": "code",
   "source": [
    "query = \"Я хочу заниматься современными языковыми моделями. Какую программу мне посоветуешь?\"\n",
    "result = qa_chain.invoke({\"query\": query})"
   ],
   "id": "72018900ec7a5193",
   "outputs": [],
   "execution_count": 17
  },
  {
   "metadata": {
    "ExecuteTime": {
     "end_time": "2025-08-03T18:20:24.392023Z",
     "start_time": "2025-08-03T18:20:24.386391Z"
    }
   },
   "cell_type": "code",
   "source": "print(\"Ответ:\", result[\"result\"])",
   "id": "ad1825fc76f86402",
   "outputs": [
    {
     "name": "stdout",
     "output_type": "stream",
     "text": [
      "Ответ: Программа «Искусственный Интеллект (AI)» включает курсы по глубокому обучению и обработке естественного языка, что может быть полезно для изучения современных языковых моделей.\n",
      "\n",
      "Источники:\n",
      "- data/ai_product_parced.txt\n",
      "- data/ai_parced.txt\n",
      "- data/ai_parced.txt\n"
     ]
    }
   ],
   "execution_count": 18
  },
  {
   "metadata": {},
   "cell_type": "code",
   "outputs": [],
   "execution_count": null,
   "source": "",
   "id": "2f5a4fa4530ae253"
  }
 ],
 "metadata": {
  "kernelspec": {
   "display_name": "Python 3",
   "language": "python",
   "name": "python3"
  },
  "language_info": {
   "codemirror_mode": {
    "name": "ipython",
    "version": 2
   },
   "file_extension": ".py",
   "mimetype": "text/x-python",
   "name": "python",
   "nbconvert_exporter": "python",
   "pygments_lexer": "ipython2",
   "version": "2.7.6"
  }
 },
 "nbformat": 4,
 "nbformat_minor": 5
}
