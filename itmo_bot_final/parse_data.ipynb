{
 "cells": [
  {
   "metadata": {},
   "cell_type": "markdown",
   "source": "#### Parse data from AI Master's program pages and PDFs",
   "id": "1aad68c8d983688f"
  },
  {
   "cell_type": "code",
   "id": "initial_id",
   "metadata": {
    "collapsed": true,
    "ExecuteTime": {
     "end_time": "2025-08-03T16:13:54.025718Z",
     "start_time": "2025-08-03T16:13:54.021335Z"
    }
   },
   "source": [
    "from bs4 import BeautifulSoup\n",
    "import requests\n",
    "import pdfplumber"
   ],
   "outputs": [],
   "execution_count": 10
  },
  {
   "metadata": {},
   "cell_type": "markdown",
   "source": "##### Extracts data from html pages",
   "id": "dbccd7a121796cee"
  },
  {
   "metadata": {
    "ExecuteTime": {
     "end_time": "2025-08-03T16:13:54.279093Z",
     "start_time": "2025-08-03T16:13:54.273693Z"
    }
   },
   "cell_type": "code",
   "source": [
    "def parse_text(url):\n",
    "    response = requests.get(url)\n",
    "    soup = BeautifulSoup(response.text, 'html.parser')\n",
    "\n",
    "    for script in soup([\"script\", \"style\", \"nav\", \"footer\"]):\n",
    "        script.decompose()\n",
    "\n",
    "    return soup.get_text(separator='\\n', strip=True)"
   ],
   "id": "8f9c8066be03510f",
   "outputs": [],
   "execution_count": 11
  },
  {
   "metadata": {},
   "cell_type": "markdown",
   "source": "##### Extracts data from PDF files",
   "id": "86d43a01908a4329"
  },
  {
   "metadata": {
    "ExecuteTime": {
     "end_time": "2025-08-03T16:13:54.536784Z",
     "start_time": "2025-08-03T16:13:54.531329Z"
    }
   },
   "cell_type": "code",
   "source": [
    "def extract_pdf_data(pdf_path):\n",
    "    with pdfplumber.open(pdf_path) as pdf:\n",
    "        text = ''\n",
    "        for page in pdf.pages:\n",
    "            text += page.extract_text()\n",
    "    return text"
   ],
   "id": "c7fade420a2a2ea4",
   "outputs": [],
   "execution_count": 12
  },
  {
   "metadata": {},
   "cell_type": "markdown",
   "source": "##### Creating txt file for AI Master's program",
   "id": "a49422a43931539f"
  },
  {
   "metadata": {
    "ExecuteTime": {
     "end_time": "2025-08-03T16:14:59.156797Z",
     "start_time": "2025-08-03T16:14:57.788886Z"
    }
   },
   "cell_type": "code",
   "source": [
    "with open('data/ai_parced.txt', 'w', encoding='utf-8') as f:\n",
    "    parsed_text = parse_text('https://abit.itmo.ru/program/master/ai')\n",
    "    f.write(parsed_text)\n",
    "    f.write('\\n')\n",
    "    pdf_data = extract_pdf_data('data/ai.pdf')\n",
    "    f.write(pdf_data)\n",
    "    f.write('\\n')"
   ],
   "id": "9e61347c439cfca9",
   "outputs": [],
   "execution_count": 15
  },
  {
   "metadata": {},
   "cell_type": "markdown",
   "source": "##### Creating txt file for AI Product Master's program",
   "id": "cc8e782b36474e6b"
  },
  {
   "metadata": {
    "ExecuteTime": {
     "end_time": "2025-08-03T16:15:37.141336Z",
     "start_time": "2025-08-03T16:15:35.581061Z"
    }
   },
   "cell_type": "code",
   "source": [
    "with open('data/ai_product_parced.txt', 'w', encoding='utf-8') as f:\n",
    "    parsed_text = parse_text('https://abit.itmo.ru/program/master/ai_product')\n",
    "    f.write(parsed_text)\n",
    "    f.write('\\n')\n",
    "    pdf_data = extract_pdf_data('data/ai_product.pdf')\n",
    "    f.write(pdf_data)\n",
    "    f.write('\\n')"
   ],
   "id": "9c45fc052c70fea7",
   "outputs": [],
   "execution_count": 16
  },
  {
   "metadata": {},
   "cell_type": "code",
   "outputs": [],
   "execution_count": null,
   "source": "",
   "id": "b352583a3c703074"
  }
 ],
 "metadata": {
  "kernelspec": {
   "display_name": "Python 3",
   "language": "python",
   "name": "python3"
  },
  "language_info": {
   "codemirror_mode": {
    "name": "ipython",
    "version": 2
   },
   "file_extension": ".py",
   "mimetype": "text/x-python",
   "name": "python",
   "nbconvert_exporter": "python",
   "pygments_lexer": "ipython2",
   "version": "2.7.6"
  }
 },
 "nbformat": 4,
 "nbformat_minor": 5
}
